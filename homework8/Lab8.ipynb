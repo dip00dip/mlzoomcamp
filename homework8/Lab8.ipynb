{
  "cells": [
    {
      "cell_type": "code",
      "execution_count": 1,
      "metadata": {
        "id": "1VMPGbstOV-V"
      },
      "outputs": [],
      "source": [
        "import numpy as np\n",
        "import matplotlib.pyplot as plt\n",
        "\n",
        "%matplotlib inline"
      ]
    },
    {
      "cell_type": "code",
      "execution_count": null,
      "metadata": {},
      "outputs": [],
      "source": [
        "!pip install tensorflow\n"
      ]
    },
    {
      "cell_type": "code",
      "execution_count": 2,
      "metadata": {
        "id": "GHB1E-6dQbKF"
      },
      "outputs": [],
      "source": [
        "import tensorflow as tf\n",
        "from tensorflow import keras"
      ]
    },
    {
      "cell_type": "code",
      "execution_count": 3,
      "metadata": {
        "id": "UOMQZgnOQc_z"
      },
      "outputs": [],
      "source": [
        "from tensorflow.keras.preprocessing.image import load_img"
      ]
    },
    {
      "cell_type": "code",
      "execution_count": null,
      "metadata": {},
      "outputs": [],
      "source": [
        "!wget https://github.com/SVizor42/ML_Zoomcamp/releases/download/bee-wasp-data/data.zip\n",
        "!unzip data.zip"
      ]
    },
    {
      "cell_type": "code",
      "execution_count": 4,
      "metadata": {},
      "outputs": [],
      "source": [
        "from tensorflow.keras.preprocessing.image import ImageDataGenerator"
      ]
    },
    {
      "cell_type": "code",
      "execution_count": null,
      "metadata": {},
      "outputs": [],
      "source": []
    },
    {
      "cell_type": "code",
      "execution_count": 5,
      "metadata": {},
      "outputs": [
        {
          "name": "stdout",
          "output_type": "stream",
          "text": [
            "Found 3677 images belonging to 2 classes.\n"
          ]
        }
      ],
      "source": [
        "train_gen = ImageDataGenerator(rescale=1./255)\n",
        "\n",
        "train_ds = train_gen.flow_from_directory(\n",
        "    './data/train',\n",
        "    target_size=(150, 150),\n",
        "    batch_size=20,\n",
        "    class_mode='binary',\n",
        "    shuffle=True\n",
        ")"
      ]
    },
    {
      "cell_type": "code",
      "execution_count": 29,
      "metadata": {},
      "outputs": [
        {
          "data": {
            "text/plain": [
              "{'bee': 0, 'wasp': 1}"
            ]
          },
          "execution_count": 29,
          "metadata": {},
          "output_type": "execute_result"
        }
      ],
      "source": [
        "train_ds.class_indices"
      ]
    },
    {
      "cell_type": "code",
      "execution_count": null,
      "metadata": {},
      "outputs": [],
      "source": [
        "X, y = next(train_ds)"
      ]
    },
    {
      "cell_type": "code",
      "execution_count": 6,
      "metadata": {},
      "outputs": [
        {
          "name": "stdout",
          "output_type": "stream",
          "text": [
            "Found 918 images belonging to 2 classes.\n"
          ]
        }
      ],
      "source": [
        "val_gen = ImageDataGenerator(rescale=1./255)\n",
        "\n",
        "val_ds = val_gen.flow_from_directory(\n",
        "    './data/test',\n",
        "    target_size=(150, 150),\n",
        "    batch_size=20,\n",
        "    class_mode='binary',\n",
        "    shuffle=True\n",
        ")"
      ]
    },
    {
      "cell_type": "code",
      "execution_count": 7,
      "metadata": {},
      "outputs": [],
      "source": [
        "conv_layer = tf.keras.layers.Conv2D(32, (3,3), activation='relu', input_shape=(150, 150, 3))\n",
        "model = tf.keras.models.Sequential([        \n",
        "        conv_layer,\n",
        "        tf.keras.layers.MaxPooling2D(2, 2),\n",
        "        tf.keras.layers.Flatten(input_shape=(150, 150)),\n",
        "        tf.keras.layers.Dense(64, activation=tf.nn.relu),\n",
        "        tf.keras.layers.Dense(1, activation=tf.nn.sigmoid)\n",
        "    ]) "
      ]
    },
    {
      "cell_type": "code",
      "execution_count": 8,
      "metadata": {},
      "outputs": [
        {
          "name": "stderr",
          "output_type": "stream",
          "text": [
            "WARNING:absl:At this time, the v2.11+ optimizer `tf.keras.optimizers.SGD` runs slowly on M1/M2 Macs, please use the legacy Keras optimizer instead, located at `tf.keras.optimizers.legacy.SGD`.\n",
            "WARNING:absl:`lr` is deprecated in Keras optimizer, please use `learning_rate` or use the legacy optimizer, e.g.,tf.keras.optimizers.legacy.SGD.\n"
          ]
        }
      ],
      "source": [
        "optimizer =  keras.optimizers.SGD(lr=0.002, momentum=0.8)\n",
        "model.compile(optimizer=optimizer, \n",
        "                  loss='binary_crossentropy', \n",
        "                  metrics=['accuracy']) \n",
        "        "
      ]
    },
    {
      "cell_type": "code",
      "execution_count": 33,
      "metadata": {},
      "outputs": [
        {
          "data": {
            "text/plain": [
              "896"
            ]
          },
          "execution_count": 33,
          "metadata": {},
          "output_type": "execute_result"
        }
      ],
      "source": [
        "c_params = conv_layer.count_params()\n",
        "c_params"
      ]
    },
    {
      "cell_type": "code",
      "execution_count": null,
      "metadata": {},
      "outputs": [],
      "source": [
        "total_params = model.count_params()"
      ]
    },
    {
      "cell_type": "code",
      "execution_count": null,
      "metadata": {},
      "outputs": [],
      "source": [
        "total_params"
      ]
    },
    {
      "cell_type": "code",
      "execution_count": 9,
      "metadata": {},
      "outputs": [
        {
          "name": "stdout",
          "output_type": "stream",
          "text": [
            "Epoch 1/10\n",
            "184/184 [==============================] - 7s 39ms/step - loss: 0.6540 - accuracy: 0.6114 - val_loss: 0.5602 - val_accuracy: 0.7320\n",
            "Epoch 2/10\n",
            "184/184 [==============================] - 7s 37ms/step - loss: 0.5695 - accuracy: 0.7079 - val_loss: 0.5459 - val_accuracy: 0.7222\n",
            "Epoch 3/10\n",
            "184/184 [==============================] - 7s 37ms/step - loss: 0.5394 - accuracy: 0.7370 - val_loss: 0.5462 - val_accuracy: 0.7407\n",
            "Epoch 4/10\n",
            "184/184 [==============================] - 7s 38ms/step - loss: 0.4853 - accuracy: 0.7729 - val_loss: 0.5767 - val_accuracy: 0.7320\n",
            "Epoch 5/10\n",
            "184/184 [==============================] - 7s 37ms/step - loss: 0.4338 - accuracy: 0.8126 - val_loss: 0.5318 - val_accuracy: 0.7614\n",
            "Epoch 6/10\n",
            "184/184 [==============================] - 7s 38ms/step - loss: 0.3380 - accuracy: 0.8610 - val_loss: 0.5962 - val_accuracy: 0.7353\n",
            "Epoch 7/10\n",
            "184/184 [==============================] - 7s 37ms/step - loss: 0.2445 - accuracy: 0.9081 - val_loss: 0.6425 - val_accuracy: 0.7603\n",
            "Epoch 8/10\n",
            "184/184 [==============================] - 7s 37ms/step - loss: 0.1586 - accuracy: 0.9472 - val_loss: 0.7328 - val_accuracy: 0.7603\n",
            "Epoch 9/10\n",
            "184/184 [==============================] - 7s 38ms/step - loss: 0.1077 - accuracy: 0.9704 - val_loss: 1.0254 - val_accuracy: 0.7200\n",
            "Epoch 10/10\n",
            "184/184 [==============================] - 7s 37ms/step - loss: 0.0770 - accuracy: 0.9804 - val_loss: 0.8511 - val_accuracy: 0.7244\n"
          ]
        }
      ],
      "source": [
        "history = model.fit(train_ds, epochs=10, validation_data=val_ds)"
      ]
    },
    {
      "cell_type": "code",
      "execution_count": 10,
      "metadata": {},
      "outputs": [
        {
          "data": {
            "text/plain": [
              "<matplotlib.legend.Legend at 0x17e99f100>"
            ]
          },
          "execution_count": 10,
          "metadata": {},
          "output_type": "execute_result"
        },
        {
          "data": {
            "image/png": "[encoded data removed]",
            "text/plain": [
              "<Figure size 640x480 with 1 Axes>"
            ]
          },
          "metadata": {},
          "output_type": "display_data"
        }
      ],
      "source": [
        "hist = history.history\n",
        "plt.plot(hist['val_accuracy'], label='val')\n",
        "plt.plot(hist['accuracy'], label='train')\n",
        "\n",
        "plt.legend()"
      ]
    },
    {
      "cell_type": "code",
      "execution_count": 11,
      "metadata": {},
      "outputs": [
        {
          "name": "stdout",
          "output_type": "stream",
          "text": [
            "Median training accuracy over 10 epochs is: 0.8368234932422638\n"
          ]
        }
      ],
      "source": [
        "accuracies = history.history['accuracy']\n",
        "\n",
        "# Calculate the median\n",
        "import numpy as np\n",
        "median_accuracy = np.median(accuracies)\n",
        "\n",
        "print(f\"Median training accuracy over 10 epochs is: {median_accuracy}\")"
      ]
    },
    {
      "cell_type": "code",
      "execution_count": 12,
      "metadata": {},
      "outputs": [
        {
          "data": {
            "text/plain": [
              "[0.6540006995201111,\n",
              " 0.5695369839668274,\n",
              " 0.5393515229225159,\n",
              " 0.4852580428123474,\n",
              " 0.4338098168373108,\n",
              " 0.33797580003738403,\n",
              " 0.24451996386051178,\n",
              " 0.1585528552532196,\n",
              " 0.1077343299984932,\n",
              " 0.07700322568416595]"
            ]
          },
          "execution_count": 12,
          "metadata": {},
          "output_type": "execute_result"
        }
      ],
      "source": [
        " history.history['loss']"
      ]
    },
    {
      "cell_type": "code",
      "execution_count": 13,
      "metadata": {},
      "outputs": [
        {
          "name": "stdout",
          "output_type": "stream",
          "text": [
            "Standard deviation of training loss over 10 epochs is: 0.19538868879940743\n"
          ]
        }
      ],
      "source": [
        "num_epochs = 10\n",
        "losses = history.history['loss']\n",
        "\n",
        "# Calculate the standard deviation\n",
        "std_deviation_loss = np.std(losses)\n",
        "\n",
        "print(f\"Standard deviation of training loss over {num_epochs} epochs is: {std_deviation_loss}\")"
      ]
    },
    {
      "cell_type": "code",
      "execution_count": 14,
      "metadata": {},
      "outputs": [
        {
          "name": "stdout",
          "output_type": "stream",
          "text": [
            "Found 918 images belonging to 2 classes.\n"
          ]
        }
      ],
      "source": [
        "train_gen_a = ImageDataGenerator(rescale=1./255,\n",
        "    rotation_range=50,\n",
        "    width_shift_range=0.1,\n",
        "    height_shift_range=0.1,\n",
        "    zoom_range=0.1,\n",
        "    horizontal_flip=True,\n",
        "    fill_mode='nearest')\n",
        "\n",
        "train_ds_a = val_gen.flow_from_directory(\n",
        "    './data/test',\n",
        "    target_size=(150, 150),\n",
        "    batch_size=20,\n",
        "    class_mode='binary',\n",
        "    shuffle=True\n",
        ")\n",
        "   "
      ]
    },
    {
      "cell_type": "code",
      "execution_count": 15,
      "metadata": {},
      "outputs": [
        {
          "name": "stdout",
          "output_type": "stream",
          "text": [
            "Found 918 images belonging to 2 classes.\n"
          ]
        }
      ],
      "source": [
        "val_gen_a = ImageDataGenerator(rescale=1./255,\n",
        "    rotation_range=50,\n",
        "    width_shift_range=0.1,\n",
        "    height_shift_range=0.1,\n",
        "    zoom_range=0.1,\n",
        "    horizontal_flip=True,\n",
        "    fill_mode='nearest')\n",
        "\n",
        "val_ds_a = val_gen.flow_from_directory(\n",
        "    './data/test',\n",
        "    target_size=(150, 150),\n",
        "    batch_size=20,\n",
        "    class_mode='binary',\n",
        "    shuffle=True\n",
        ")"
      ]
    },
    {
      "cell_type": "code",
      "execution_count": 16,
      "metadata": {},
      "outputs": [
        {
          "name": "stdout",
          "output_type": "stream",
          "text": [
            "Epoch 1/10\n",
            "46/46 [==============================] - 2s 48ms/step - loss: 0.6333 - accuracy: 0.7081 - val_loss: 0.4096 - val_accuracy: 0.8508\n",
            "Epoch 2/10\n",
            "46/46 [==============================] - 2s 48ms/step - loss: 0.3641 - accuracy: 0.8529 - val_loss: 0.2360 - val_accuracy: 0.9303\n",
            "Epoch 3/10\n",
            "46/46 [==============================] - 2s 46ms/step - loss: 0.2671 - accuracy: 0.9052 - val_loss: 0.1443 - val_accuracy: 0.9782\n",
            "Epoch 4/10\n",
            "46/46 [==============================] - 2s 47ms/step - loss: 0.1388 - accuracy: 0.9706 - val_loss: 0.0950 - val_accuracy: 0.9858\n",
            "Epoch 5/10\n",
            "46/46 [==============================] - 2s 46ms/step - loss: 0.0706 - accuracy: 0.9847 - val_loss: 0.0429 - val_accuracy: 0.9956\n",
            "Epoch 6/10\n",
            "46/46 [==============================] - 2s 48ms/step - loss: 0.0384 - accuracy: 0.9946 - val_loss: 0.0207 - val_accuracy: 0.9989\n",
            "Epoch 7/10\n",
            "46/46 [==============================] - 2s 49ms/step - loss: 0.0205 - accuracy: 0.9989 - val_loss: 0.0131 - val_accuracy: 1.0000\n",
            "Epoch 8/10\n",
            "46/46 [==============================] - 2s 48ms/step - loss: 0.0133 - accuracy: 0.9989 - val_loss: 0.0115 - val_accuracy: 0.9989\n",
            "Epoch 9/10\n",
            "46/46 [==============================] - 2s 47ms/step - loss: 0.0417 - accuracy: 0.9913 - val_loss: 0.0134 - val_accuracy: 1.0000\n",
            "Epoch 10/10\n",
            "46/46 [==============================] - 2s 47ms/step - loss: 0.0102 - accuracy: 1.0000 - val_loss: 0.0067 - val_accuracy: 1.0000\n"
          ]
        }
      ],
      "source": [
        "history = model.fit(train_ds_a, epochs=10, validation_data=val_ds_a)"
      ]
    },
    {
      "cell_type": "code",
      "execution_count": 17,
      "metadata": {},
      "outputs": [
        {
          "name": "stdout",
          "output_type": "stream",
          "text": [
            "Median  accuracy over 10 epochs is: 0.9972766935825348\n",
            "Median validation loss over 10 epochs is: 0.03178269509226084\n"
          ]
        }
      ],
      "source": [
        "accuracies = history.history['val_accuracy']\n",
        "losses =  history.history['val_loss']\n",
        "# Calculate the median\n",
        "median_accuracy = np.median(accuracies)\n",
        "median_loss = np.median(losses)\n",
        "\n",
        "print(f\"Median  accuracy over 10 epochs is: {median_accuracy}\")\n",
        "print(f\"Median validation loss over 10 epochs is: {median_loss}\")"
      ]
    }
  ],
  "metadata": {
    "colab": {
      "provenance": []
    },
    "kernelspec": {
      "display_name": "Python 3",
      "name": "python3"
    },
    "language_info": {
      "codemirror_mode": {
        "name": "ipython",
        "version": 3
      },
      "file_extension": ".py",
      "mimetype": "text/x-python",
      "name": "python",
      "nbconvert_exporter": "python",
      "pygments_lexer": "ipython3",
      "version": "3.9.18"
    }
  },
  "nbformat": 4,
  "nbformat_minor": 0
}
