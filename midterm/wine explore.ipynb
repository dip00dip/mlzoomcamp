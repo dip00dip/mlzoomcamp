{
  "cells": [
    {
      "cell_type": "code",
      "execution_count": 13,
      "metadata": {
        "id": "6Qz1Q-1I94BY"
      },
      "outputs": [],
      "source": [
        "import pandas as pd\n",
        "import numpy as np\n",
        "import scipy as sp\n",
        "import seaborn as sns\n",
        "import matplotlib.pyplot as plt\n",
        "%matplotlib inline"
      ]
    },
    {
      "cell_type": "code",
      "execution_count": 2,
      "metadata": {},
      "outputs": [],
      "source": [
        "data = pd.read_csv(\"input/white-wine-price-rating.csv\")"
      ]
    },
    {
      "cell_type": "code",
      "execution_count": 3,
      "metadata": {},
      "outputs": [
        {
          "data": {
            "text/plain": [
              "Index(['FullName', 'Winery', 'WineName', 'Year', 'Region', 'RegionalVariety',\n",
              "       'VintageRating', 'VintageRatingCount', 'WineRating', 'WineRatingCount',\n",
              "       'VintagePrice', 'WinePrice', 'VintageRatingPriceRatio',\n",
              "       'WineRatingPriceRatio'],\n",
              "      dtype='object')"
            ]
          },
          "execution_count": 3,
          "metadata": {},
          "output_type": "execute_result"
        }
      ],
      "source": [
        "data.columns"
      ]
    },
    {
      "cell_type": "code",
      "execution_count": 4,
      "metadata": {},
      "outputs": [
        {
          "data": {
            "text/plain": [
              "64316"
            ]
          },
          "execution_count": 4,
          "metadata": {},
          "output_type": "execute_result"
        }
      ],
      "source": [
        "data.size\n"
      ]
    },
    {
      "cell_type": "code",
      "execution_count": 6,
      "metadata": {},
      "outputs": [
        {
          "data": {
            "text/plain": [
              "32"
            ]
          },
          "execution_count": 6,
          "metadata": {},
          "output_type": "execute_result"
        }
      ],
      "source": [
        "data['Region'].nunique()"
      ]
    },
    {
      "cell_type": "code",
      "execution_count": 8,
      "metadata": {},
      "outputs": [
        {
          "data": {
            "text/html": [
              "<div>\n",
              "<style scoped>\n",
              "    .dataframe tbody tr th:only-of-type {\n",
              "        vertical-align: middle;\n",
              "    }\n",
              "\n",
              "    .dataframe tbody tr th {\n",
              "        vertical-align: top;\n",
              "    }\n",
              "\n",
              "    .dataframe thead th {\n",
              "        text-align: right;\n",
              "    }\n",
              "</style>\n",
              "<table border=\"1\" class=\"dataframe\">\n",
              "  <thead>\n",
              "    <tr style=\"text-align: right;\">\n",
              "      <th></th>\n",
              "      <th>VintageRating</th>\n",
              "      <th>VintageRatingCount</th>\n",
              "      <th>WineRating</th>\n",
              "      <th>WineRatingCount</th>\n",
              "      <th>VintagePrice</th>\n",
              "      <th>WinePrice</th>\n",
              "      <th>VintageRatingPriceRatio</th>\n",
              "      <th>WineRatingPriceRatio</th>\n",
              "    </tr>\n",
              "  </thead>\n",
              "  <tbody>\n",
              "    <tr>\n",
              "      <th>count</th>\n",
              "      <td>4594.000000</td>\n",
              "      <td>4594.000000</td>\n",
              "      <td>4594.000000</td>\n",
              "      <td>4594.000000</td>\n",
              "      <td>4594.000000</td>\n",
              "      <td>4594.000000</td>\n",
              "      <td>4594.000000</td>\n",
              "      <td>4594.000000</td>\n",
              "    </tr>\n",
              "    <tr>\n",
              "      <th>mean</th>\n",
              "      <td>4.208272</td>\n",
              "      <td>131.526774</td>\n",
              "      <td>4.159599</td>\n",
              "      <td>1255.237048</td>\n",
              "      <td>103.875294</td>\n",
              "      <td>103.875294</td>\n",
              "      <td>0.101727</td>\n",
              "      <td>0.100233</td>\n",
              "    </tr>\n",
              "    <tr>\n",
              "      <th>std</th>\n",
              "      <td>0.171763</td>\n",
              "      <td>233.877452</td>\n",
              "      <td>0.175609</td>\n",
              "      <td>1984.197756</td>\n",
              "      <td>437.853292</td>\n",
              "      <td>437.853292</td>\n",
              "      <td>0.054872</td>\n",
              "      <td>0.053590</td>\n",
              "    </tr>\n",
              "    <tr>\n",
              "      <th>min</th>\n",
              "      <td>3.900000</td>\n",
              "      <td>25.000000</td>\n",
              "      <td>3.500000</td>\n",
              "      <td>28.000000</td>\n",
              "      <td>10.500000</td>\n",
              "      <td>10.500000</td>\n",
              "      <td>0.000512</td>\n",
              "      <td>0.000512</td>\n",
              "    </tr>\n",
              "    <tr>\n",
              "      <th>25%</th>\n",
              "      <td>4.100000</td>\n",
              "      <td>40.000000</td>\n",
              "      <td>4.000000</td>\n",
              "      <td>368.000000</td>\n",
              "      <td>28.480000</td>\n",
              "      <td>28.480000</td>\n",
              "      <td>0.057539</td>\n",
              "      <td>0.057333</td>\n",
              "    </tr>\n",
              "    <tr>\n",
              "      <th>50%</th>\n",
              "      <td>4.200000</td>\n",
              "      <td>69.000000</td>\n",
              "      <td>4.100000</td>\n",
              "      <td>710.000000</td>\n",
              "      <td>41.670000</td>\n",
              "      <td>41.670000</td>\n",
              "      <td>0.100024</td>\n",
              "      <td>0.098868</td>\n",
              "    </tr>\n",
              "    <tr>\n",
              "      <th>75%</th>\n",
              "      <td>4.300000</td>\n",
              "      <td>138.000000</td>\n",
              "      <td>4.300000</td>\n",
              "      <td>1425.500000</td>\n",
              "      <td>74.677500</td>\n",
              "      <td>74.677500</td>\n",
              "      <td>0.144828</td>\n",
              "      <td>0.142809</td>\n",
              "    </tr>\n",
              "    <tr>\n",
              "      <th>max</th>\n",
              "      <td>4.900000</td>\n",
              "      <td>6883.000000</td>\n",
              "      <td>4.700000</td>\n",
              "      <td>37863.000000</td>\n",
              "      <td>9180.000000</td>\n",
              "      <td>9180.000000</td>\n",
              "      <td>0.380952</td>\n",
              "      <td>0.361905</td>\n",
              "    </tr>\n",
              "  </tbody>\n",
              "</table>\n",
              "</div>"
            ],
            "text/plain": [
              "       VintageRating  VintageRatingCount   WineRating  WineRatingCount  \\\n",
              "count    4594.000000         4594.000000  4594.000000      4594.000000   \n",
              "mean        4.208272          131.526774     4.159599      1255.237048   \n",
              "std         0.171763          233.877452     0.175609      1984.197756   \n",
              "min         3.900000           25.000000     3.500000        28.000000   \n",
              "25%         4.100000           40.000000     4.000000       368.000000   \n",
              "50%         4.200000           69.000000     4.100000       710.000000   \n",
              "75%         4.300000          138.000000     4.300000      1425.500000   \n",
              "max         4.900000         6883.000000     4.700000     37863.000000   \n",
              "\n",
              "       VintagePrice    WinePrice  VintageRatingPriceRatio  \\\n",
              "count   4594.000000  4594.000000              4594.000000   \n",
              "mean     103.875294   103.875294                 0.101727   \n",
              "std      437.853292   437.853292                 0.054872   \n",
              "min       10.500000    10.500000                 0.000512   \n",
              "25%       28.480000    28.480000                 0.057539   \n",
              "50%       41.670000    41.670000                 0.100024   \n",
              "75%       74.677500    74.677500                 0.144828   \n",
              "max     9180.000000  9180.000000                 0.380952   \n",
              "\n",
              "       WineRatingPriceRatio  \n",
              "count           4594.000000  \n",
              "mean               0.100233  \n",
              "std                0.053590  \n",
              "min                0.000512  \n",
              "25%                0.057333  \n",
              "50%                0.098868  \n",
              "75%                0.142809  \n",
              "max                0.361905  "
            ]
          },
          "execution_count": 8,
          "metadata": {},
          "output_type": "execute_result"
        }
      ],
      "source": [
        "data.describe()\n"
      ]
    },
    {
      "cell_type": "code",
      "execution_count": 9,
      "metadata": {},
      "outputs": [
        {
          "data": {
            "text/plain": [
              "FullName                    object\n",
              "Winery                      object\n",
              "WineName                    object\n",
              "Year                        object\n",
              "Region                      object\n",
              "RegionalVariety             object\n",
              "VintageRating              float64\n",
              "VintageRatingCount           int64\n",
              "WineRating                 float64\n",
              "WineRatingCount              int64\n",
              "VintagePrice               float64\n",
              "WinePrice                  float64\n",
              "VintageRatingPriceRatio    float64\n",
              "WineRatingPriceRatio       float64\n",
              "dtype: object"
            ]
          },
          "execution_count": 9,
          "metadata": {},
          "output_type": "execute_result"
        }
      ],
      "source": [
        "data.dtypes"
      ]
    },
    {
      "cell_type": "code",
      "execution_count": 10,
      "metadata": {},
      "outputs": [
        {
          "name": "stdout",
          "output_type": "stream",
          "text": [
            "\"FullName\" attribute - number of categories: 4593\n",
            "\"Winery\" attribute - number of categories: 1242\n",
            "\"Region\" attribute - number of categories: 32\n",
            "\"Winery\" attribute - number of categories: 1242\n",
            "\"Year\" attribute - number of categories: 35\n",
            "\"WineRating\" attribute - number of categories: 13\n",
            "\"WinePrice\" attribute - number of categories: 1987\n"
          ]
        }
      ],
      "source": [
        "def category_count(attribute):\n",
        "    print('\"{}\" attribute - number of categories: {}'.format(attribute, data[attribute].nunique()))\n",
        "category_count('FullName')\n",
        "category_count('Winery')\n",
        "category_count('Region')\n",
        "category_count('Winery')\n",
        "category_count('Year')\n",
        "category_count('WineRating')\n",
        "category_count('WinePrice')"
      ]
    },
    {
      "cell_type": "code",
      "execution_count": 12,
      "metadata": {},
      "outputs": [
        {
          "name": "stdout",
          "output_type": "stream",
          "text": [
            "\"WineRating\" attribute range: 3.5 - 4.7\n",
            "\"WineRatingCount\" attribute range: 28 - 37863\n",
            "\"WinePrice\" attribute range: 10.5 - 9180.0\n"
          ]
        }
      ],
      "source": [
        "def attribute_range(attribute):\n",
        "    print('\"{}\" attribute range: {} - {}'.format(attribute, min(data[attribute]), max(data[attribute])))\n",
        "          \n",
        "attribute_range('WineRating')\n",
        "attribute_range('WineRatingCount')\n",
        "attribute_range('WinePrice')"
      ]
    },
    {
      "cell_type": "code",
      "execution_count": 15,
      "metadata": {},
      "outputs": [
        {
          "name": "stdout",
          "output_type": "stream",
          "text": [
            "FullName\n",
            "FullName\n",
            "False    4594\n",
            "Name: count, dtype: int64\n",
            "\n",
            "Winery\n",
            "Winery\n",
            "False    4594\n",
            "Name: count, dtype: int64\n",
            "\n",
            "WineName\n",
            "WineName\n",
            "False    4594\n",
            "Name: count, dtype: int64\n",
            "\n",
            "Year\n",
            "Year\n",
            "False    4594\n",
            "Name: count, dtype: int64\n",
            "\n",
            "Region\n",
            "Region\n",
            "False    4217\n",
            "True      377\n",
            "Name: count, dtype: int64\n",
            "\n",
            "RegionalVariety\n",
            "RegionalVariety\n",
            "False    4217\n",
            "True      377\n",
            "Name: count, dtype: int64\n",
            "\n",
            "VintageRating\n",
            "VintageRating\n",
            "False    4594\n",
            "Name: count, dtype: int64\n",
            "\n",
            "VintageRatingCount\n",
            "VintageRatingCount\n",
            "False    4594\n",
            "Name: count, dtype: int64\n",
            "\n",
            "WineRating\n",
            "WineRating\n",
            "False    4594\n",
            "Name: count, dtype: int64\n",
            "\n",
            "WineRatingCount\n",
            "WineRatingCount\n",
            "False    4594\n",
            "Name: count, dtype: int64\n",
            "\n",
            "VintagePrice\n",
            "VintagePrice\n",
            "False    4594\n",
            "Name: count, dtype: int64\n",
            "\n",
            "WinePrice\n",
            "WinePrice\n",
            "False    4594\n",
            "Name: count, dtype: int64\n",
            "\n",
            "VintageRatingPriceRatio\n",
            "VintageRatingPriceRatio\n",
            "False    4594\n",
            "Name: count, dtype: int64\n",
            "\n",
            "WineRatingPriceRatio\n",
            "WineRatingPriceRatio\n",
            "False    4594\n",
            "Name: count, dtype: int64\n",
            "\n"
          ]
        }
      ],
      "source": [
        "missing_data = data.isnull()\n",
        "for attribute in missing_data.columns.tolist():\n",
        "    print(attribute)\n",
        "    print(missing_data[attribute].value_counts())\n",
        "    print('')"
      ]
    },
    {
      "cell_type": "code",
      "execution_count": 16,
      "metadata": {},
      "outputs": [
        {
          "name": "stdout",
          "output_type": "stream",
          "text": [
            "Number of duplicates in the dataset: 0\n"
          ]
        }
      ],
      "source": [
        "# Let's check for duplicates in the data set\n",
        "print('Number of duplicates in the dataset:', data.duplicated().sum())"
      ]
    },
    {
      "cell_type": "code",
      "execution_count": 17,
      "metadata": {},
      "outputs": [
        {
          "data": {
            "text/html": [
              "<div>\n",
              "<style scoped>\n",
              "    .dataframe tbody tr th:only-of-type {\n",
              "        vertical-align: middle;\n",
              "    }\n",
              "\n",
              "    .dataframe tbody tr th {\n",
              "        vertical-align: top;\n",
              "    }\n",
              "\n",
              "    .dataframe thead th {\n",
              "        text-align: right;\n",
              "    }\n",
              "</style>\n",
              "<table border=\"1\" class=\"dataframe\">\n",
              "  <thead>\n",
              "    <tr style=\"text-align: right;\">\n",
              "      <th></th>\n",
              "      <th>FullName</th>\n",
              "      <th>Winery</th>\n",
              "      <th>WineName</th>\n",
              "      <th>Year</th>\n",
              "      <th>Region</th>\n",
              "      <th>RegionalVariety</th>\n",
              "      <th>VintageRating</th>\n",
              "      <th>VintageRatingCount</th>\n",
              "      <th>WineRating</th>\n",
              "      <th>WineRatingCount</th>\n",
              "      <th>VintagePrice</th>\n",
              "      <th>WinePrice</th>\n",
              "      <th>VintageRatingPriceRatio</th>\n",
              "      <th>WineRatingPriceRatio</th>\n",
              "    </tr>\n",
              "  </thead>\n",
              "  <tbody>\n",
              "    <tr>\n",
              "      <th>3724</th>\n",
              "      <td>Encontro 1 Branco 2012</td>\n",
              "      <td>Encontro</td>\n",
              "      <td>1 Branco</td>\n",
              "      <td>2012</td>\n",
              "      <td>Northern Portugal</td>\n",
              "      <td>White</td>\n",
              "      <td>4.3</td>\n",
              "      <td>43</td>\n",
              "      <td>4.2</td>\n",
              "      <td>265</td>\n",
              "      <td>25.97</td>\n",
              "      <td>25.97</td>\n",
              "      <td>0.165576</td>\n",
              "      <td>0.161725</td>\n",
              "    </tr>\n",
              "    <tr>\n",
              "      <th>2443</th>\n",
              "      <td>Encontro 1 Branco 2011</td>\n",
              "      <td>Encontro</td>\n",
              "      <td>1 Branco</td>\n",
              "      <td>2011</td>\n",
              "      <td>Northern Portugal</td>\n",
              "      <td>White</td>\n",
              "      <td>4.3</td>\n",
              "      <td>33</td>\n",
              "      <td>4.2</td>\n",
              "      <td>265</td>\n",
              "      <td>36.45</td>\n",
              "      <td>36.45</td>\n",
              "      <td>0.117970</td>\n",
              "      <td>0.115226</td>\n",
              "    </tr>\n",
              "    <tr>\n",
              "      <th>1613</th>\n",
              "      <td>Château de Tracy 101 Rangs Pouilly-Fumé 2012</td>\n",
              "      <td>Château de Tracy</td>\n",
              "      <td>101 Rangs Pouilly-Fumé</td>\n",
              "      <td>2012</td>\n",
              "      <td>Upper Loire Valley</td>\n",
              "      <td>White</td>\n",
              "      <td>4.2</td>\n",
              "      <td>40</td>\n",
              "      <td>4.2</td>\n",
              "      <td>267</td>\n",
              "      <td>74.73</td>\n",
              "      <td>74.73</td>\n",
              "      <td>0.056202</td>\n",
              "      <td>0.056202</td>\n",
              "    </tr>\n",
              "    <tr>\n",
              "      <th>1649</th>\n",
              "      <td>Château de Tracy 101 Rangs Pouilly-Fumé 2016</td>\n",
              "      <td>Château de Tracy</td>\n",
              "      <td>101 Rangs Pouilly-Fumé</td>\n",
              "      <td>2016</td>\n",
              "      <td>Upper Loire Valley</td>\n",
              "      <td>White</td>\n",
              "      <td>4.2</td>\n",
              "      <td>31</td>\n",
              "      <td>4.2</td>\n",
              "      <td>267</td>\n",
              "      <td>71.67</td>\n",
              "      <td>71.67</td>\n",
              "      <td>0.058602</td>\n",
              "      <td>0.058602</td>\n",
              "    </tr>\n",
              "    <tr>\n",
              "      <th>1663</th>\n",
              "      <td>Château de Tracy 101 Rangs Pouilly-Fumé 2013</td>\n",
              "      <td>Château de Tracy</td>\n",
              "      <td>101 Rangs Pouilly-Fumé</td>\n",
              "      <td>2013</td>\n",
              "      <td>Upper Loire Valley</td>\n",
              "      <td>White</td>\n",
              "      <td>4.2</td>\n",
              "      <td>27</td>\n",
              "      <td>4.2</td>\n",
              "      <td>267</td>\n",
              "      <td>70.00</td>\n",
              "      <td>70.00</td>\n",
              "      <td>0.060000</td>\n",
              "      <td>0.060000</td>\n",
              "    </tr>\n",
              "    <tr>\n",
              "      <th>...</th>\n",
              "      <td>...</td>\n",
              "      <td>...</td>\n",
              "      <td>...</td>\n",
              "      <td>...</td>\n",
              "      <td>...</td>\n",
              "      <td>...</td>\n",
              "      <td>...</td>\n",
              "      <td>...</td>\n",
              "      <td>...</td>\n",
              "      <td>...</td>\n",
              "      <td>...</td>\n",
              "      <td>...</td>\n",
              "      <td>...</td>\n",
              "      <td>...</td>\n",
              "    </tr>\n",
              "    <tr>\n",
              "      <th>2614</th>\n",
              "      <td>Markus Molitor Zeltinger Sonnenuhr Riesling Au...</td>\n",
              "      <td>Markus Molitor</td>\n",
              "      <td>Zeltinger Sonnenuhr Riesling Auslese***</td>\n",
              "      <td>2017</td>\n",
              "      <td>German</td>\n",
              "      <td>Riesling</td>\n",
              "      <td>4.2</td>\n",
              "      <td>72</td>\n",
              "      <td>4.3</td>\n",
              "      <td>1208</td>\n",
              "      <td>41.08</td>\n",
              "      <td>41.08</td>\n",
              "      <td>0.102240</td>\n",
              "      <td>0.104674</td>\n",
              "    </tr>\n",
              "    <tr>\n",
              "      <th>1233</th>\n",
              "      <td>Markus Molitor Zeltinger Sonnenuhr Riesling Au...</td>\n",
              "      <td>Markus Molitor</td>\n",
              "      <td>Zeltinger Sonnenuhr Riesling Auslese***</td>\n",
              "      <td>2016</td>\n",
              "      <td>German</td>\n",
              "      <td>Riesling</td>\n",
              "      <td>4.3</td>\n",
              "      <td>142</td>\n",
              "      <td>4.3</td>\n",
              "      <td>1208</td>\n",
              "      <td>86.67</td>\n",
              "      <td>86.67</td>\n",
              "      <td>0.049613</td>\n",
              "      <td>0.049613</td>\n",
              "    </tr>\n",
              "    <tr>\n",
              "      <th>995</th>\n",
              "      <td>Markus Molitor Zeltinger Sonnenuhr Riesling Au...</td>\n",
              "      <td>Markus Molitor</td>\n",
              "      <td>Zeltinger Sonnenuhr Riesling Auslese***</td>\n",
              "      <td>2015</td>\n",
              "      <td>German</td>\n",
              "      <td>Riesling</td>\n",
              "      <td>4.5</td>\n",
              "      <td>196</td>\n",
              "      <td>4.3</td>\n",
              "      <td>1208</td>\n",
              "      <td>68.68</td>\n",
              "      <td>68.68</td>\n",
              "      <td>0.065521</td>\n",
              "      <td>0.062609</td>\n",
              "    </tr>\n",
              "    <tr>\n",
              "      <th>3419</th>\n",
              "      <td>Dr. Loosen Ürziger Würzgarten Riesling Spätles...</td>\n",
              "      <td>Dr. Loosen</td>\n",
              "      <td>Ürziger Würzgarten Riesling Spätlese</td>\n",
              "      <td>2017</td>\n",
              "      <td>German</td>\n",
              "      <td>Riesling</td>\n",
              "      <td>4.1</td>\n",
              "      <td>232</td>\n",
              "      <td>4.1</td>\n",
              "      <td>2030</td>\n",
              "      <td>26.95</td>\n",
              "      <td>26.95</td>\n",
              "      <td>0.152134</td>\n",
              "      <td>0.152134</td>\n",
              "    </tr>\n",
              "    <tr>\n",
              "      <th>718</th>\n",
              "      <td>Markus Molitor Ürziger Würzgarten Riesling Spä...</td>\n",
              "      <td>Markus Molitor</td>\n",
              "      <td>Ürziger Würzgarten Riesling Spätlese</td>\n",
              "      <td>2013</td>\n",
              "      <td>German</td>\n",
              "      <td>Riesling</td>\n",
              "      <td>4.3</td>\n",
              "      <td>27</td>\n",
              "      <td>4.1</td>\n",
              "      <td>602</td>\n",
              "      <td>177.68</td>\n",
              "      <td>177.68</td>\n",
              "      <td>0.024201</td>\n",
              "      <td>0.023075</td>\n",
              "    </tr>\n",
              "  </tbody>\n",
              "</table>\n",
              "<p>3476 rows × 14 columns</p>\n",
              "</div>"
            ],
            "text/plain": [
              "                                               FullName            Winery  \\\n",
              "3724                             Encontro 1 Branco 2012          Encontro   \n",
              "2443                             Encontro 1 Branco 2011          Encontro   \n",
              "1613       Château de Tracy 101 Rangs Pouilly-Fumé 2012  Château de Tracy   \n",
              "1649       Château de Tracy 101 Rangs Pouilly-Fumé 2016  Château de Tracy   \n",
              "1663       Château de Tracy 101 Rangs Pouilly-Fumé 2013  Château de Tracy   \n",
              "...                                                 ...               ...   \n",
              "2614  Markus Molitor Zeltinger Sonnenuhr Riesling Au...    Markus Molitor   \n",
              "1233  Markus Molitor Zeltinger Sonnenuhr Riesling Au...    Markus Molitor   \n",
              "995   Markus Molitor Zeltinger Sonnenuhr Riesling Au...    Markus Molitor   \n",
              "3419  Dr. Loosen Ürziger Würzgarten Riesling Spätles...        Dr. Loosen   \n",
              "718   Markus Molitor Ürziger Würzgarten Riesling Spä...    Markus Molitor   \n",
              "\n",
              "                                     WineName  Year              Region  \\\n",
              "3724                                 1 Branco  2012   Northern Portugal   \n",
              "2443                                 1 Branco  2011   Northern Portugal   \n",
              "1613                   101 Rangs Pouilly-Fumé  2012  Upper Loire Valley   \n",
              "1649                   101 Rangs Pouilly-Fumé  2016  Upper Loire Valley   \n",
              "1663                   101 Rangs Pouilly-Fumé  2013  Upper Loire Valley   \n",
              "...                                       ...   ...                 ...   \n",
              "2614  Zeltinger Sonnenuhr Riesling Auslese***  2017              German   \n",
              "1233  Zeltinger Sonnenuhr Riesling Auslese***  2016              German   \n",
              "995   Zeltinger Sonnenuhr Riesling Auslese***  2015              German   \n",
              "3419     Ürziger Würzgarten Riesling Spätlese  2017              German   \n",
              "718      Ürziger Würzgarten Riesling Spätlese  2013              German   \n",
              "\n",
              "     RegionalVariety  VintageRating  VintageRatingCount  WineRating  \\\n",
              "3724           White            4.3                  43         4.2   \n",
              "2443           White            4.3                  33         4.2   \n",
              "1613           White            4.2                  40         4.2   \n",
              "1649           White            4.2                  31         4.2   \n",
              "1663           White            4.2                  27         4.2   \n",
              "...              ...            ...                 ...         ...   \n",
              "2614        Riesling            4.2                  72         4.3   \n",
              "1233        Riesling            4.3                 142         4.3   \n",
              "995         Riesling            4.5                 196         4.3   \n",
              "3419        Riesling            4.1                 232         4.1   \n",
              "718         Riesling            4.3                  27         4.1   \n",
              "\n",
              "      WineRatingCount  VintagePrice  WinePrice  VintageRatingPriceRatio  \\\n",
              "3724              265         25.97      25.97                 0.165576   \n",
              "2443              265         36.45      36.45                 0.117970   \n",
              "1613              267         74.73      74.73                 0.056202   \n",
              "1649              267         71.67      71.67                 0.058602   \n",
              "1663              267         70.00      70.00                 0.060000   \n",
              "...               ...           ...        ...                      ...   \n",
              "2614             1208         41.08      41.08                 0.102240   \n",
              "1233             1208         86.67      86.67                 0.049613   \n",
              "995              1208         68.68      68.68                 0.065521   \n",
              "3419             2030         26.95      26.95                 0.152134   \n",
              "718               602        177.68     177.68                 0.024201   \n",
              "\n",
              "      WineRatingPriceRatio  \n",
              "3724              0.161725  \n",
              "2443              0.115226  \n",
              "1613              0.056202  \n",
              "1649              0.058602  \n",
              "1663              0.060000  \n",
              "...                    ...  \n",
              "2614              0.104674  \n",
              "1233              0.049613  \n",
              "995               0.062609  \n",
              "3419              0.152134  \n",
              "718               0.023075  \n",
              "\n",
              "[3476 rows x 14 columns]"
            ]
          },
          "execution_count": 17,
          "metadata": {},
          "output_type": "execute_result"
        }
      ],
      "source": [
        "data[data['WineName'].duplicated(keep=False)].sort_values(by='WineName')"
      ]
    },
    {
      "cell_type": "code",
      "execution_count": 18,
      "metadata": {},
      "outputs": [
        {
          "name": "stderr",
          "output_type": "stream",
          "text": [
            "/Users/dp/miniforge3/envs/ml-zoomcamp/lib/python3.9/site-packages/seaborn/_oldcore.py:1498: FutureWarning: is_categorical_dtype is deprecated and will be removed in a future version. Use isinstance(dtype, CategoricalDtype) instead\n",
            "  if pd.api.types.is_categorical_dtype(vector):\n",
            "/Users/dp/miniforge3/envs/ml-zoomcamp/lib/python3.9/site-packages/seaborn/_oldcore.py:1119: FutureWarning: use_inf_as_na option is deprecated and will be removed in a future version. Convert inf values to NaN before operating instead.\n",
            "  with pd.option_context('mode.use_inf_as_na', True):\n"
          ]
        },
        {
          "data": {
            "image/png": "[encoded data removed]",
            "text/plain": [
              "<Figure size 600x400 with 1 Axes>"
            ]
          },
          "metadata": {},
          "output_type": "display_data"
        }
      ],
      "source": [
        "plt.figure(figsize=(6, 4))\n",
        "\n",
        "sns.histplot(data.WinePrice, bins=40, color='black', alpha=1)\n",
        "plt.ylabel('Frequency')\n",
        "plt.xlabel('Price')\n",
        "plt.title('Distribution of prices')\n",
        "\n",
        "plt.show()"
      ]
    },
    {
      "cell_type": "code",
      "execution_count": 21,
      "metadata": {},
      "outputs": [
        {
          "data": {
            "text/plain": [
              "array(['Côte de Beaune White', 'Chardonnay', 'White', 'Riesling',\n",
              "       'Rioja White', nan, 'White Blend', 'Chablis', 'Chenin Blanc',\n",
              "       'Condrieu', 'Sauvignon Blanc', 'Vin Jaune', 'Pinot Gris',\n",
              "       'Macônnais White', 'Gavi', 'Pinot Blanc', 'Grüner Veltliner',\n",
              "       'Gewürztraminer', 'Viognier', 'Albariño', 'Verdejo',\n",
              "       'Vinho Verde White', 'Pinot Grigio', 'Muscadet', 'Soave',\n",
              "       'Côte Chalonnaise White', 'Müller Thurgau', 'Grauburgunder',\n",
              "       'Saint-Péray', 'Torrontes', 'Moscatel', 'Malagouzia'], dtype=object)"
            ]
          },
          "execution_count": 21,
          "metadata": {},
          "output_type": "execute_result"
        }
      ],
      "source": [
        "data.RegionalVariety.unique()"
      ]
    },
    {
      "cell_type": "code",
      "execution_count": null,
      "metadata": {},
      "outputs": [],
      "source": [
        "# df['median_house_value'] = np.log1p(df.median_house_value)"
      ]
    },
    {
      "cell_type": "code",
      "execution_count": null,
      "metadata": {},
      "outputs": [],
      "source": []
    },
    {
      "cell_type": "code",
      "execution_count": null,
      "metadata": {},
      "outputs": [],
      "source": [
        "from sklearn.model_selection import train_test_split\n",
        "\n",
        "df_full_train, df_test = train_test_split(data, test_size=0.2, random_state=1)\n",
        "df_train, df_val = train_test_split(df_full_train, test_size=0.25, random_state=1)"
      ]
    }
  ],
  "metadata": {
    "colab": {
      "provenance": []
    },
    "kernelspec": {
      "display_name": "Python 3",
      "name": "python3"
    },
    "language_info": {
      "codemirror_mode": {
        "name": "ipython",
        "version": 3
      },
      "file_extension": ".py",
      "mimetype": "text/x-python",
      "name": "python",
      "nbconvert_exporter": "python",
      "pygments_lexer": "ipython3",
      "version": "3.9.18"
    }
  },
  "nbformat": 4,
  "nbformat_minor": 0
}
